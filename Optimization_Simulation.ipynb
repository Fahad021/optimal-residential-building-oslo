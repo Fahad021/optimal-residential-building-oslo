{
 "cells": [
  {
   "cell_type": "code",
   "execution_count": 1,
   "metadata": {},
   "outputs": [],
   "source": [
    "from eppy import modeleditor\n",
    "from eppy.modeleditor import IDF\n",
    "from matplotlib import pyplot as plt\n",
    "import os\n",
    "import pandas as pd\n",
    "from besos import eppy_funcs as ef\n",
    "from besos import sampling\n",
    "from besos.evaluator import EvaluatorEP\n",
    "from besos.parameters import RangeParameter, FieldSelector, FilterSelector, Parameter, expand_plist, wwr, CategoryParameter, GenericSelector\n",
    "from besos.problem import EPProblem\n",
    "import numpy as np"
   ]
  },
  {
   "cell_type": "markdown",
   "metadata": {},
   "source": [
    "Define the .IDF, .IDFF, and Weather File (.EPW)"
   ]
  },
  {
   "cell_type": "code",
   "execution_count": 2,
   "metadata": {},
   "outputs": [],
   "source": [
    "idd_file='/usr/local/EnergyPlus-9-0-1/Energy+.idd'\n",
    "weather_file ='/home/ict4bd/Residential_oslo/weather_data/NOR_Oslo.Fornebu.014880_IWEC.epw'\n",
    "building = ef.get_building('/home/ict4bd/Residential_oslo/IDF_Files/on3.idf')"
   ]
  },
  {
   "cell_type": "code",
   "execution_count": 3,
   "metadata": {},
   "outputs": [
    {
     "name": "stdout",
     "output_type": "stream",
     "text": [
      "[\n",
      "Zone,\n",
      "    Blocco1:Zona3,            !- Name\n",
      "    0,                        !- Direction of Relative North\n",
      "    0,                        !- X Origin\n",
      "    0,                        !- Y Origin\n",
      "    0,                        !- Z Origin\n",
      "    1,                        !- Type\n",
      "    1,                        !- Multiplier\n",
      "    ,                         !- Ceiling Height\n",
      "    77.2899,                  !- Volume\n",
      "    22.7323,                  !- Floor Area\n",
      "    TARP,                     !- Zone Inside Convection Algorithm\n",
      "    ,                         !- Zone Outside Convection Algorithm\n",
      "    Yes;                      !- Part of Total Floor Area\n",
      ", \n",
      "Zone,\n",
      "    Blocco1:Zona1,            !- Name\n",
      "    0,                        !- Direction of Relative North\n",
      "    0,                        !- X Origin\n",
      "    0,                        !- Y Origin\n",
      "    0,                        !- Z Origin\n",
      "    1,                        !- Type\n",
      "    1,                        !- Multiplier\n",
      "    ,                         !- Ceiling Height\n",
      "    14.8401,                  !- Volume\n",
      "    4.3647,                   !- Floor Area\n",
      "    TARP,                     !- Zone Inside Convection Algorithm\n",
      "    ,                         !- Zone Outside Convection Algorithm\n",
      "    Yes;                      !- Part of Total Floor Area\n",
      ", \n",
      "Zone,\n",
      "    Blocco1:Zona2,            !- Name\n",
      "    0,                        !- Direction of Relative North\n",
      "    0,                        !- X Origin\n",
      "    0,                        !- Y Origin\n",
      "    0,                        !- Z Origin\n",
      "    1,                        !- Type\n",
      "    1,                        !- Multiplier\n",
      "    ,                         !- Ceiling Height\n",
      "    49.8611,                  !- Volume\n",
      "    14.665,                   !- Floor Area\n",
      "    TARP,                     !- Zone Inside Convection Algorithm\n",
      "    ,                         !- Zone Outside Convection Algorithm\n",
      "    Yes;                      !- Part of Total Floor Area\n",
      "]\n"
     ]
    }
   ],
   "source": [
    "zoneinfo = building.idfobjects[\"Zone\"]\n",
    "print(zoneinfo)"
   ]
  },
  {
   "cell_type": "markdown",
   "metadata": {},
   "source": [
    "Select the component of the building that will be changed during the simulation,\n",
    "in particular:\n",
    "- window to wall ratio;\n",
    "- insulation thickness;\n",
    "- ACH;\n",
    "- orientation."
   ]
  },
  {
   "cell_type": "markdown",
   "metadata": {},
   "source": [
    "ACH is expressed as a number from 0 to 10 with steps of 1. In order to change it in the .IDF file, it must be converted as Air Flow Rate per zone [m^3/s]. \n",
    "?But first we isolate the infiltration for each zone that will be subtracted to the global flow rate?"
   ]
  },
  {
   "cell_type": "code",
   "execution_count": 4,
   "metadata": {},
   "outputs": [],
   "source": [
    "#Ask to the prof if it makes sense\n",
    "ZoneInfiltration =  building.idfobjects['ZoneInfiltration:DesignFlowRate']\n",
    "for item in ZoneInfiltration:\n",
    "    if item.Name == \"Blocco1:Zona1 Infiltration\":\n",
    "        zone_1_infiltration = item.Design_Flow_Rate\n",
    "    if item.Name == \"Blocco1:Zona2 Infiltration\":\n",
    "        zone_2_infiltration = item.Design_Flow_Rate\n",
    "    if item.Name == \"Blocco1:Zona3 Infiltration\":\n",
    "        zone_3_infiltration = item.Design_Flow_Rate"
   ]
  },
  {
   "cell_type": "markdown",
   "metadata": {},
   "source": [
    "Now we are able to calculate the Zone Flow Rate by proportioning the global flow rate to each room's surface"
   ]
  },
  {
   "cell_type": "code",
   "execution_count": 5,
   "metadata": {},
   "outputs": [],
   "source": [
    "ACH = np.arange(1,11,1)\n",
    "Flow_rate_1 = []\n",
    "Flow_rate_2 = []\n",
    "Flow_rate_3 = []\n",
    "\n",
    "volume_building = 0\n",
    "for Zone in building.idfobjects[\"Zone\"]:\n",
    "    volume_building += float(Zone.checkrange(\"Volume\"))\n",
    "    if (Zone.Name == 'Blocco1:Zona1'):\n",
    "        volume_zone_1 = Zone.Volume\n",
    "    if (Zone.Name == 'Blocco1:Zona2'):\n",
    "        volume_zone_2 = Zone.Volume\n",
    "    if (Zone.Name == 'Blocco1:Zona3'):\n",
    "        volume_zone_3 = Zone.Volume\n",
    "        \n",
    "for i in ACH:\n",
    "    global_Flow_rate = (i * volume_building)/3600\n",
    "    Flow_rate_1.append((global_Flow_rate*volume_zone_1/volume_building))\n",
    "    Flow_rate_2.append((global_Flow_rate*volume_zone_2/volume_building))\n",
    "    Flow_rate_3.append((global_Flow_rate*volume_zone_3/volume_building))\n",
    "\n"
   ]
  },
  {
   "cell_type": "markdown",
   "metadata": {},
   "source": [
    "Define the parameter that have to be changed during the simulation"
   ]
  },
  {
   "cell_type": "code",
   "execution_count": 6,
   "metadata": {},
   "outputs": [
    {
     "name": "stderr",
     "output_type": "stream",
     "text": [
      "/home/ict4bd/py3/lib/python3.8/site-packages/besos/parameters.py:592: UserWarning: wwr is intended to be used with RangeParameter. Your value_descriptor is CategoryParameter(options=[0.05, 0.15, 0.5])\n",
      "  warnings.warn(\n"
     ]
    }
   ],
   "source": [
    "insulation = FieldSelector(class_name = 'material', object_name='XPS Extruded Polystyrene  - CO2 Blowing_.35', field_name='Thickness')\n",
    "insulationPR = Parameter(selector=insulation, value_descriptor=RangeParameter(0.0001, 0.35),\n",
    "                         name='Insulation Thickness')\n",
    "\n",
    "window_to_wall = wwr(CategoryParameter(options=[.05,.15,.5]))\n",
    "\n",
    "orientation = FieldSelector(class_name='Building', field_name='North Axis')\n",
    "orientationPR = Parameter(selector=orientation, value_descriptor=CategoryParameter(options=[0,90,180,270]),\n",
    "                          name='Orientation')\n",
    "\n",
    "zone_1_ventilation = FieldSelector(class_name = 'ZoneVentilation:DesignFlowRate', object_name = 'Blocco1:Zona1 Nat Vent', field_name = 'Design Flow Rate')\n",
    "zone_1_ventilationPR = Parameter(selector = zone_1_ventilation, value_descriptor=RangeParameter(0.0001,10), name =\"Zone 1 Vent\")\n",
    "\n",
    "zone_2_ventilation = FieldSelector(class_name = 'ZoneVentilation:DesignFlowRate', object_name = 'Blocco1:Zona2 Nat Vent', field_name = 'Design Flow Rate')\n",
    "zone_2_ventilationPR = Parameter(selector = zone_2_ventilation, value_descriptor=RangeParameter(0.0001,10), name =\"Zone 2 Vent\")\n",
    "\n",
    "zone_3_ventilation = FieldSelector(class_name = 'ZoneVentilation:DesignFlowRate', object_name = 'Blocco1:Zona3 Nat Vent', field_name = 'Design Flow Rate')\n",
    "zone_3_ventilationPR = Parameter(selector = zone_3_ventilation, value_descriptor=RangeParameter(0.0001,10), name =\"Zone 3 Vent\")\n",
    "\n",
    "parameters = [orientationPR, window_to_wall, insulationPR, zone_1_ventilationPR, zone_2_ventilationPR, zone_3_ventilationPR]"
   ]
  },
  {
   "cell_type": "markdown",
   "metadata": {},
   "source": [
    "Create a dictionary of samples that will be used during the simulation (i.e. the list of all the possible\n",
    "combination of the previous parameter)"
   ]
  },
  {
   "cell_type": "code",
   "execution_count": 7,
   "metadata": {
    "scrolled": true
   },
   "outputs": [
    {
     "data": {
      "text/html": [
       "<div>\n",
       "<style scoped>\n",
       "    .dataframe tbody tr th:only-of-type {\n",
       "        vertical-align: middle;\n",
       "    }\n",
       "\n",
       "    .dataframe tbody tr th {\n",
       "        vertical-align: top;\n",
       "    }\n",
       "\n",
       "    .dataframe thead th {\n",
       "        text-align: right;\n",
       "    }\n",
       "</style>\n",
       "<table border=\"1\" class=\"dataframe\">\n",
       "  <thead>\n",
       "    <tr style=\"text-align: right;\">\n",
       "      <th></th>\n",
       "      <th>Orientation</th>\n",
       "      <th>Window to Wall Ratio</th>\n",
       "      <th>Insulation Thickness</th>\n",
       "      <th>Zone 1 Vent</th>\n",
       "      <th>Zone 2 Vent</th>\n",
       "      <th>Zone 3 Vent</th>\n",
       "    </tr>\n",
       "  </thead>\n",
       "  <tbody>\n",
       "    <tr>\n",
       "      <th>0</th>\n",
       "      <td>0</td>\n",
       "      <td>0.05</td>\n",
       "      <td>0.001</td>\n",
       "      <td>0.004122</td>\n",
       "      <td>0.013850</td>\n",
       "      <td>0.021469</td>\n",
       "    </tr>\n",
       "    <tr>\n",
       "      <th>1</th>\n",
       "      <td>0</td>\n",
       "      <td>0.05</td>\n",
       "      <td>0.001</td>\n",
       "      <td>0.008245</td>\n",
       "      <td>0.027701</td>\n",
       "      <td>0.042939</td>\n",
       "    </tr>\n",
       "    <tr>\n",
       "      <th>2</th>\n",
       "      <td>0</td>\n",
       "      <td>0.05</td>\n",
       "      <td>0.001</td>\n",
       "      <td>0.012367</td>\n",
       "      <td>0.041551</td>\n",
       "      <td>0.064408</td>\n",
       "    </tr>\n",
       "    <tr>\n",
       "      <th>3</th>\n",
       "      <td>0</td>\n",
       "      <td>0.05</td>\n",
       "      <td>0.001</td>\n",
       "      <td>0.016489</td>\n",
       "      <td>0.055401</td>\n",
       "      <td>0.085878</td>\n",
       "    </tr>\n",
       "    <tr>\n",
       "      <th>4</th>\n",
       "      <td>0</td>\n",
       "      <td>0.05</td>\n",
       "      <td>0.001</td>\n",
       "      <td>0.020611</td>\n",
       "      <td>0.069252</td>\n",
       "      <td>0.107347</td>\n",
       "    </tr>\n",
       "    <tr>\n",
       "      <th>...</th>\n",
       "      <td>...</td>\n",
       "      <td>...</td>\n",
       "      <td>...</td>\n",
       "      <td>...</td>\n",
       "      <td>...</td>\n",
       "      <td>...</td>\n",
       "    </tr>\n",
       "    <tr>\n",
       "      <th>595</th>\n",
       "      <td>270</td>\n",
       "      <td>0.50</td>\n",
       "      <td>0.350</td>\n",
       "      <td>0.024734</td>\n",
       "      <td>0.083102</td>\n",
       "      <td>0.128817</td>\n",
       "    </tr>\n",
       "    <tr>\n",
       "      <th>596</th>\n",
       "      <td>270</td>\n",
       "      <td>0.50</td>\n",
       "      <td>0.350</td>\n",
       "      <td>0.028856</td>\n",
       "      <td>0.096952</td>\n",
       "      <td>0.150286</td>\n",
       "    </tr>\n",
       "    <tr>\n",
       "      <th>597</th>\n",
       "      <td>270</td>\n",
       "      <td>0.50</td>\n",
       "      <td>0.350</td>\n",
       "      <td>0.032978</td>\n",
       "      <td>0.110802</td>\n",
       "      <td>0.171755</td>\n",
       "    </tr>\n",
       "    <tr>\n",
       "      <th>598</th>\n",
       "      <td>270</td>\n",
       "      <td>0.50</td>\n",
       "      <td>0.350</td>\n",
       "      <td>0.037100</td>\n",
       "      <td>0.124653</td>\n",
       "      <td>0.193225</td>\n",
       "    </tr>\n",
       "    <tr>\n",
       "      <th>599</th>\n",
       "      <td>270</td>\n",
       "      <td>0.50</td>\n",
       "      <td>0.350</td>\n",
       "      <td>0.041222</td>\n",
       "      <td>0.138503</td>\n",
       "      <td>0.214694</td>\n",
       "    </tr>\n",
       "  </tbody>\n",
       "</table>\n",
       "<p>600 rows × 6 columns</p>\n",
       "</div>"
      ],
      "text/plain": [
       "     Orientation  Window to Wall Ratio  Insulation Thickness  Zone 1 Vent  \\\n",
       "0              0                  0.05                 0.001     0.004122   \n",
       "1              0                  0.05                 0.001     0.008245   \n",
       "2              0                  0.05                 0.001     0.012367   \n",
       "3              0                  0.05                 0.001     0.016489   \n",
       "4              0                  0.05                 0.001     0.020611   \n",
       "..           ...                   ...                   ...          ...   \n",
       "595          270                  0.50                 0.350     0.024734   \n",
       "596          270                  0.50                 0.350     0.028856   \n",
       "597          270                  0.50                 0.350     0.032978   \n",
       "598          270                  0.50                 0.350     0.037100   \n",
       "599          270                  0.50                 0.350     0.041222   \n",
       "\n",
       "     Zone 2 Vent  Zone 3 Vent  \n",
       "0       0.013850     0.021469  \n",
       "1       0.027701     0.042939  \n",
       "2       0.041551     0.064408  \n",
       "3       0.055401     0.085878  \n",
       "4       0.069252     0.107347  \n",
       "..           ...          ...  \n",
       "595     0.083102     0.128817  \n",
       "596     0.096952     0.150286  \n",
       "597     0.110802     0.171755  \n",
       "598     0.124653     0.193225  \n",
       "599     0.138503     0.214694  \n",
       "\n",
       "[600 rows x 6 columns]"
      ]
     },
     "execution_count": 7,
     "metadata": {},
     "output_type": "execute_result"
    }
   ],
   "source": [
    "samples_temp =[]\n",
    "wwr_values = [.05,.15,.5] #per velocizzare tolgo .5 e 0.05\n",
    "thickness_values = np.linspace(0.001,0.35,5)\n",
    "orientation_values = [0,90,180,270] #per velocizzare simulazione, tolgo due valori (270,360)\n",
    "\n",
    "for orientation in orientation_values:\n",
    "    for wwr in wwr_values:\n",
    "        for thickness in thickness_values:\n",
    "            for i in range(len(Flow_rate_1)):\n",
    "                samples_temp.append({\n",
    "                'Orientation': orientation,\n",
    "                'Window to Wall Ratio': wwr,\n",
    "                'Insulation Thickness': thickness,\n",
    "                'Zone 1 Vent': Flow_rate_1[i],\n",
    "                'Zone 2 Vent': Flow_rate_2[i],\n",
    "                'Zone 3 Vent': Flow_rate_3[i]})\n",
    "\n",
    "samples = pd.DataFrame.from_dict(samples_temp) #convert the dictionary to dataframe\n",
    "samples #print the samples dataframe"
   ]
  },
  {
   "cell_type": "markdown",
   "metadata": {},
   "source": [
    "Define the objective of the evaluator and create a dataframe of the outputs"
   ]
  },
  {
   "cell_type": "code",
   "execution_count": 8,
   "metadata": {
    "scrolled": true
   },
   "outputs": [
    {
     "data": {
      "application/vnd.jupyter.widget-view+json": {
       "model_id": "802994c73f524a809cd01831a8bca33f",
       "version_major": 2,
       "version_minor": 0
      },
      "text/plain": [
       "HBox(children=(FloatProgress(value=0.0, description='Executing', max=600.0, style=ProgressStyle(description_wi…"
      ]
     },
     "metadata": {},
     "output_type": "display_data"
    },
    {
     "ename": "KeyboardInterrupt",
     "evalue": "",
     "output_type": "error",
     "traceback": [
      "\u001b[0;31m---------------------------------------------------------------------------\u001b[0m",
      "\u001b[0;31mKeyboardInterrupt\u001b[0m                         Traceback (most recent call last)",
      "\u001b[0;32m<ipython-input-8-2e6994a0696a>\u001b[0m in \u001b[0;36m<module>\u001b[0;34m\u001b[0m\n\u001b[1;32m      4\u001b[0m evaluator = EvaluatorEP(problem, building, out_dir='outputdirSimulation', error_mode='Failfast', err_dir='outputdirSimulation',\n\u001b[1;32m      5\u001b[0m                         epw = weather_file)\n\u001b[0;32m----> 6\u001b[0;31m \u001b[0moutputs\u001b[0m \u001b[0;34m=\u001b[0m \u001b[0mevaluator\u001b[0m\u001b[0;34m.\u001b[0m\u001b[0mdf_apply\u001b[0m\u001b[0;34m(\u001b[0m\u001b[0msamples\u001b[0m\u001b[0;34m,\u001b[0m \u001b[0mkeep_input\u001b[0m\u001b[0;34m=\u001b[0m\u001b[0;32mTrue\u001b[0m\u001b[0;34m)\u001b[0m\u001b[0;34m\u001b[0m\u001b[0;34m\u001b[0m\u001b[0m\n\u001b[0m",
      "\u001b[0;32m~/py3/lib/python3.8/site-packages/besos/evaluator.py\u001b[0m in \u001b[0;36mdf_apply\u001b[0;34m(self, df, keep_input, processes, keep_dirs, out_dir)\u001b[0m\n\u001b[1;32m    724\u001b[0m         \u001b[0;34m:\u001b[0m\u001b[0;32mreturn\u001b[0m\u001b[0;34m:\u001b[0m \u001b[0mReturns\u001b[0m \u001b[0ma\u001b[0m \u001b[0mDataFrame\u001b[0m \u001b[0;32mwith\u001b[0m \u001b[0mone\u001b[0m \u001b[0mcolumn\u001b[0m \u001b[0mcontaining\u001b[0m \u001b[0mthe\u001b[0m \u001b[0mresults\u001b[0m \u001b[0;32mfor\u001b[0m \u001b[0meach\u001b[0m \u001b[0mobjective\u001b[0m\u001b[0;34m.\u001b[0m\u001b[0;34m\u001b[0m\u001b[0;34m\u001b[0m\u001b[0m\n\u001b[1;32m    725\u001b[0m         \"\"\"\n\u001b[0;32m--> 726\u001b[0;31m         result = super().df_apply(\n\u001b[0m\u001b[1;32m    727\u001b[0m             \u001b[0mdf\u001b[0m\u001b[0;34m,\u001b[0m\u001b[0;34m\u001b[0m\u001b[0;34m\u001b[0m\u001b[0m\n\u001b[1;32m    728\u001b[0m             \u001b[0mkeep_input\u001b[0m\u001b[0;34m=\u001b[0m\u001b[0;32mFalse\u001b[0m\u001b[0;34m,\u001b[0m\u001b[0;34m\u001b[0m\u001b[0;34m\u001b[0m\u001b[0m\n",
      "\u001b[0;32m~/py3/lib/python3.8/site-packages/besos/evaluator.py\u001b[0m in \u001b[0;36mdf_apply\u001b[0;34m(self, df, keep_input, processes, **kwargs)\u001b[0m\n\u001b[1;32m    265\u001b[0m             \u001b[0;32mif\u001b[0m \u001b[0mself\u001b[0m\u001b[0;34m.\u001b[0m\u001b[0mprogress_bar\u001b[0m\u001b[0;34m:\u001b[0m\u001b[0;34m\u001b[0m\u001b[0;34m\u001b[0m\u001b[0m\n\u001b[1;32m    266\u001b[0m                 \u001b[0mself\u001b[0m\u001b[0;34m.\u001b[0m\u001b[0mpbar\u001b[0m \u001b[0;34m=\u001b[0m \u001b[0mtqdm\u001b[0m\u001b[0;34m(\u001b[0m\u001b[0mtotal\u001b[0m\u001b[0;34m=\u001b[0m\u001b[0mlen\u001b[0m\u001b[0;34m(\u001b[0m\u001b[0mdf\u001b[0m\u001b[0;34m.\u001b[0m\u001b[0mindex\u001b[0m\u001b[0;34m)\u001b[0m\u001b[0;34m,\u001b[0m \u001b[0mdesc\u001b[0m\u001b[0;34m=\u001b[0m\u001b[0;34m\"Executing\"\u001b[0m\u001b[0;34m,\u001b[0m \u001b[0munit\u001b[0m\u001b[0;34m=\u001b[0m\u001b[0;34m\"row\"\u001b[0m\u001b[0;34m)\u001b[0m\u001b[0;34m\u001b[0m\u001b[0;34m\u001b[0m\u001b[0m\n\u001b[0;32m--> 267\u001b[0;31m             \u001b[0mresult\u001b[0m \u001b[0;34m=\u001b[0m \u001b[0mdf\u001b[0m\u001b[0;34m.\u001b[0m\u001b[0mapply\u001b[0m\u001b[0;34m(\u001b[0m\u001b[0mself\u001b[0m\u001b[0;34m,\u001b[0m \u001b[0maxis\u001b[0m\u001b[0;34m=\u001b[0m\u001b[0;36m1\u001b[0m\u001b[0;34m,\u001b[0m \u001b[0mresult_type\u001b[0m\u001b[0;34m=\u001b[0m\u001b[0;34m\"expand\"\u001b[0m\u001b[0;34m,\u001b[0m \u001b[0;34m**\u001b[0m\u001b[0mkwargs\u001b[0m\u001b[0;34m)\u001b[0m\u001b[0;34m\u001b[0m\u001b[0;34m\u001b[0m\u001b[0m\n\u001b[0m\u001b[1;32m    268\u001b[0m         result = result.rename(\n\u001b[1;32m    269\u001b[0m             \u001b[0mcolumns\u001b[0m\u001b[0;34m=\u001b[0m\u001b[0;34m{\u001b[0m\u001b[0mi\u001b[0m\u001b[0;34m:\u001b[0m \u001b[0mname\u001b[0m \u001b[0;32mfor\u001b[0m \u001b[0mi\u001b[0m\u001b[0;34m,\u001b[0m \u001b[0mname\u001b[0m \u001b[0;32min\u001b[0m \u001b[0menumerate\u001b[0m\u001b[0;34m(\u001b[0m\u001b[0mself\u001b[0m\u001b[0;34m.\u001b[0m\u001b[0mproblem\u001b[0m\u001b[0;34m.\u001b[0m\u001b[0mnames\u001b[0m\u001b[0;34m(\u001b[0m\u001b[0;34m\"outputs\"\u001b[0m\u001b[0;34m)\u001b[0m\u001b[0;34m)\u001b[0m\u001b[0;34m}\u001b[0m\u001b[0;34m,\u001b[0m\u001b[0;34m\u001b[0m\u001b[0;34m\u001b[0m\u001b[0m\n",
      "\u001b[0;32m~/py3/lib/python3.8/site-packages/pandas/core/frame.py\u001b[0m in \u001b[0;36mapply\u001b[0;34m(self, func, axis, raw, result_type, args, **kwds)\u001b[0m\n\u001b[1;32m   7539\u001b[0m             \u001b[0mkwds\u001b[0m\u001b[0;34m=\u001b[0m\u001b[0mkwds\u001b[0m\u001b[0;34m,\u001b[0m\u001b[0;34m\u001b[0m\u001b[0;34m\u001b[0m\u001b[0m\n\u001b[1;32m   7540\u001b[0m         )\n\u001b[0;32m-> 7541\u001b[0;31m         \u001b[0;32mreturn\u001b[0m \u001b[0mop\u001b[0m\u001b[0;34m.\u001b[0m\u001b[0mget_result\u001b[0m\u001b[0;34m(\u001b[0m\u001b[0;34m)\u001b[0m\u001b[0;34m\u001b[0m\u001b[0;34m\u001b[0m\u001b[0m\n\u001b[0m\u001b[1;32m   7542\u001b[0m \u001b[0;34m\u001b[0m\u001b[0m\n\u001b[1;32m   7543\u001b[0m     \u001b[0;32mdef\u001b[0m \u001b[0mapplymap\u001b[0m\u001b[0;34m(\u001b[0m\u001b[0mself\u001b[0m\u001b[0;34m,\u001b[0m \u001b[0mfunc\u001b[0m\u001b[0;34m)\u001b[0m \u001b[0;34m->\u001b[0m \u001b[0;34m\"DataFrame\"\u001b[0m\u001b[0;34m:\u001b[0m\u001b[0;34m\u001b[0m\u001b[0;34m\u001b[0m\u001b[0m\n",
      "\u001b[0;32m~/py3/lib/python3.8/site-packages/pandas/core/apply.py\u001b[0m in \u001b[0;36mget_result\u001b[0;34m(self)\u001b[0m\n\u001b[1;32m    178\u001b[0m             \u001b[0;32mreturn\u001b[0m \u001b[0mself\u001b[0m\u001b[0;34m.\u001b[0m\u001b[0mapply_raw\u001b[0m\u001b[0;34m(\u001b[0m\u001b[0;34m)\u001b[0m\u001b[0;34m\u001b[0m\u001b[0;34m\u001b[0m\u001b[0m\n\u001b[1;32m    179\u001b[0m \u001b[0;34m\u001b[0m\u001b[0m\n\u001b[0;32m--> 180\u001b[0;31m         \u001b[0;32mreturn\u001b[0m \u001b[0mself\u001b[0m\u001b[0;34m.\u001b[0m\u001b[0mapply_standard\u001b[0m\u001b[0;34m(\u001b[0m\u001b[0;34m)\u001b[0m\u001b[0;34m\u001b[0m\u001b[0;34m\u001b[0m\u001b[0m\n\u001b[0m\u001b[1;32m    181\u001b[0m \u001b[0;34m\u001b[0m\u001b[0m\n\u001b[1;32m    182\u001b[0m     \u001b[0;32mdef\u001b[0m \u001b[0mapply_empty_result\u001b[0m\u001b[0;34m(\u001b[0m\u001b[0mself\u001b[0m\u001b[0;34m)\u001b[0m\u001b[0;34m:\u001b[0m\u001b[0;34m\u001b[0m\u001b[0;34m\u001b[0m\u001b[0m\n",
      "\u001b[0;32m~/py3/lib/python3.8/site-packages/pandas/core/apply.py\u001b[0m in \u001b[0;36mapply_standard\u001b[0;34m(self)\u001b[0m\n\u001b[1;32m    253\u001b[0m \u001b[0;34m\u001b[0m\u001b[0m\n\u001b[1;32m    254\u001b[0m     \u001b[0;32mdef\u001b[0m \u001b[0mapply_standard\u001b[0m\u001b[0;34m(\u001b[0m\u001b[0mself\u001b[0m\u001b[0;34m)\u001b[0m\u001b[0;34m:\u001b[0m\u001b[0;34m\u001b[0m\u001b[0;34m\u001b[0m\u001b[0m\n\u001b[0;32m--> 255\u001b[0;31m         \u001b[0mresults\u001b[0m\u001b[0;34m,\u001b[0m \u001b[0mres_index\u001b[0m \u001b[0;34m=\u001b[0m \u001b[0mself\u001b[0m\u001b[0;34m.\u001b[0m\u001b[0mapply_series_generator\u001b[0m\u001b[0;34m(\u001b[0m\u001b[0;34m)\u001b[0m\u001b[0;34m\u001b[0m\u001b[0;34m\u001b[0m\u001b[0m\n\u001b[0m\u001b[1;32m    256\u001b[0m \u001b[0;34m\u001b[0m\u001b[0m\n\u001b[1;32m    257\u001b[0m         \u001b[0;31m# wrap results\u001b[0m\u001b[0;34m\u001b[0m\u001b[0;34m\u001b[0m\u001b[0;34m\u001b[0m\u001b[0m\n",
      "\u001b[0;32m~/py3/lib/python3.8/site-packages/pandas/core/apply.py\u001b[0m in \u001b[0;36mapply_series_generator\u001b[0;34m(self)\u001b[0m\n\u001b[1;32m    282\u001b[0m                 \u001b[0;32mfor\u001b[0m \u001b[0mi\u001b[0m\u001b[0;34m,\u001b[0m \u001b[0mv\u001b[0m \u001b[0;32min\u001b[0m \u001b[0menumerate\u001b[0m\u001b[0;34m(\u001b[0m\u001b[0mseries_gen\u001b[0m\u001b[0;34m)\u001b[0m\u001b[0;34m:\u001b[0m\u001b[0;34m\u001b[0m\u001b[0;34m\u001b[0m\u001b[0m\n\u001b[1;32m    283\u001b[0m                     \u001b[0;31m# ignore SettingWithCopy here in case the user mutates\u001b[0m\u001b[0;34m\u001b[0m\u001b[0;34m\u001b[0m\u001b[0;34m\u001b[0m\u001b[0m\n\u001b[0;32m--> 284\u001b[0;31m                     \u001b[0mresults\u001b[0m\u001b[0;34m[\u001b[0m\u001b[0mi\u001b[0m\u001b[0;34m]\u001b[0m \u001b[0;34m=\u001b[0m \u001b[0mself\u001b[0m\u001b[0;34m.\u001b[0m\u001b[0mf\u001b[0m\u001b[0;34m(\u001b[0m\u001b[0mv\u001b[0m\u001b[0;34m)\u001b[0m\u001b[0;34m\u001b[0m\u001b[0;34m\u001b[0m\u001b[0m\n\u001b[0m\u001b[1;32m    285\u001b[0m                     \u001b[0;32mif\u001b[0m \u001b[0misinstance\u001b[0m\u001b[0;34m(\u001b[0m\u001b[0mresults\u001b[0m\u001b[0;34m[\u001b[0m\u001b[0mi\u001b[0m\u001b[0;34m]\u001b[0m\u001b[0;34m,\u001b[0m \u001b[0mABCSeries\u001b[0m\u001b[0;34m)\u001b[0m\u001b[0;34m:\u001b[0m\u001b[0;34m\u001b[0m\u001b[0;34m\u001b[0m\u001b[0m\n\u001b[1;32m    286\u001b[0m                         \u001b[0;31m# If we have a view on v, we need to make a copy because\u001b[0m\u001b[0;34m\u001b[0m\u001b[0;34m\u001b[0m\u001b[0;34m\u001b[0m\u001b[0m\n",
      "\u001b[0;32m~/py3/lib/python3.8/site-packages/pandas/core/apply.py\u001b[0m in \u001b[0;36mf\u001b[0;34m(x)\u001b[0m\n\u001b[1;32m    107\u001b[0m \u001b[0;34m\u001b[0m\u001b[0m\n\u001b[1;32m    108\u001b[0m             \u001b[0;32mdef\u001b[0m \u001b[0mf\u001b[0m\u001b[0;34m(\u001b[0m\u001b[0mx\u001b[0m\u001b[0;34m)\u001b[0m\u001b[0;34m:\u001b[0m\u001b[0;34m\u001b[0m\u001b[0;34m\u001b[0m\u001b[0m\n\u001b[0;32m--> 109\u001b[0;31m                 \u001b[0;32mreturn\u001b[0m \u001b[0mfunc\u001b[0m\u001b[0;34m(\u001b[0m\u001b[0mx\u001b[0m\u001b[0;34m,\u001b[0m \u001b[0;34m*\u001b[0m\u001b[0margs\u001b[0m\u001b[0;34m,\u001b[0m \u001b[0;34m**\u001b[0m\u001b[0mkwds\u001b[0m\u001b[0;34m)\u001b[0m\u001b[0;34m\u001b[0m\u001b[0;34m\u001b[0m\u001b[0m\n\u001b[0m\u001b[1;32m    110\u001b[0m \u001b[0;34m\u001b[0m\u001b[0m\n\u001b[1;32m    111\u001b[0m         \u001b[0;32melse\u001b[0m\u001b[0;34m:\u001b[0m\u001b[0;34m\u001b[0m\u001b[0;34m\u001b[0m\u001b[0m\n",
      "\u001b[0;32m~/py3/lib/python3.8/site-packages/besos/evaluator.py\u001b[0m in \u001b[0;36m__call__\u001b[0;34m(self, values, **kwargs)\u001b[0m\n\u001b[1;32m    202\u001b[0m             \u001b[0;32mreturn\u001b[0m \u001b[0mself\u001b[0m\u001b[0;34m.\u001b[0m\u001b[0m_uncached_call\u001b[0m\u001b[0;34m(\u001b[0m\u001b[0mvalues\u001b[0m\u001b[0;34m,\u001b[0m \u001b[0;34m**\u001b[0m\u001b[0mkwargs\u001b[0m\u001b[0;34m)\u001b[0m\u001b[0;34m\u001b[0m\u001b[0;34m\u001b[0m\u001b[0m\n\u001b[1;32m    203\u001b[0m         \u001b[0;32melse\u001b[0m\u001b[0;34m:\u001b[0m\u001b[0;34m\u001b[0m\u001b[0;34m\u001b[0m\u001b[0m\n\u001b[0;32m--> 204\u001b[0;31m             \u001b[0;32mreturn\u001b[0m \u001b[0mself\u001b[0m\u001b[0;34m.\u001b[0m\u001b[0m_call\u001b[0m\u001b[0;34m(\u001b[0m\u001b[0mvalues\u001b[0m\u001b[0;34m,\u001b[0m \u001b[0;34m**\u001b[0m\u001b[0mkwargs\u001b[0m\u001b[0;34m)\u001b[0m\u001b[0;34m\u001b[0m\u001b[0;34m\u001b[0m\u001b[0m\n\u001b[0m\u001b[1;32m    205\u001b[0m \u001b[0;34m\u001b[0m\u001b[0m\n\u001b[1;32m    206\u001b[0m     \u001b[0;32mdef\u001b[0m \u001b[0mcache_clear\u001b[0m\u001b[0;34m(\u001b[0m\u001b[0mself\u001b[0m\u001b[0;34m)\u001b[0m \u001b[0;34m->\u001b[0m \u001b[0;32mNone\u001b[0m\u001b[0;34m:\u001b[0m\u001b[0;34m\u001b[0m\u001b[0;34m\u001b[0m\u001b[0m\n",
      "\u001b[0;32m~/py3/lib/python3.8/site-packages/besos/evaluator.py\u001b[0m in \u001b[0;36msafe_f\u001b[0;34m(individual, *args, **kwargs)\u001b[0m\n\u001b[1;32m     55\u001b[0m             \u001b[0;34m@\u001b[0m\u001b[0mwraps\u001b[0m\u001b[0;34m(\u001b[0m\u001b[0mcache_f\u001b[0m\u001b[0;34m)\u001b[0m\u001b[0;34m\u001b[0m\u001b[0;34m\u001b[0m\u001b[0m\n\u001b[1;32m     56\u001b[0m             \u001b[0;32mdef\u001b[0m \u001b[0msafe_f\u001b[0m\u001b[0;34m(\u001b[0m\u001b[0mindividual\u001b[0m\u001b[0;34m,\u001b[0m \u001b[0;34m*\u001b[0m\u001b[0margs\u001b[0m\u001b[0;34m,\u001b[0m \u001b[0;34m**\u001b[0m\u001b[0mkwargs\u001b[0m\u001b[0;34m)\u001b[0m\u001b[0;34m:\u001b[0m\u001b[0;34m\u001b[0m\u001b[0;34m\u001b[0m\u001b[0m\n\u001b[0;32m---> 57\u001b[0;31m                 \u001b[0;32mreturn\u001b[0m \u001b[0mcache_f\u001b[0m\u001b[0;34m(\u001b[0m\u001b[0mtuple\u001b[0m\u001b[0;34m(\u001b[0m\u001b[0mindividual\u001b[0m\u001b[0;34m)\u001b[0m\u001b[0;34m,\u001b[0m \u001b[0;34m*\u001b[0m\u001b[0margs\u001b[0m\u001b[0;34m,\u001b[0m \u001b[0;34m**\u001b[0m\u001b[0mkwargs\u001b[0m\u001b[0;34m)\u001b[0m\u001b[0;34m\u001b[0m\u001b[0;34m\u001b[0m\u001b[0m\n\u001b[0m\u001b[1;32m     58\u001b[0m \u001b[0;34m\u001b[0m\u001b[0m\n\u001b[1;32m     59\u001b[0m             \u001b[0msafe_f\u001b[0m\u001b[0;34m.\u001b[0m\u001b[0mcache_clear\u001b[0m \u001b[0;34m=\u001b[0m \u001b[0mcache_f\u001b[0m\u001b[0;34m.\u001b[0m\u001b[0mcache_clear\u001b[0m\u001b[0;34m\u001b[0m\u001b[0;34m\u001b[0m\u001b[0m\n",
      "\u001b[0;32m~/py3/lib/python3.8/site-packages/besos/evaluator.py\u001b[0m in \u001b[0;36m_uncached_call\u001b[0;34m(self, values, **kwargs)\u001b[0m\n\u001b[1;32m    172\u001b[0m             \u001b[0;32mif\u001b[0m \u001b[0mself\u001b[0m\u001b[0;34m.\u001b[0m\u001b[0mproblem\u001b[0m\u001b[0;34m.\u001b[0m\u001b[0mdepend_params\u001b[0m\u001b[0;34m:\u001b[0m\u001b[0;34m\u001b[0m\u001b[0;34m\u001b[0m\u001b[0m\n\u001b[1;32m    173\u001b[0m                 \u001b[0mvalues\u001b[0m \u001b[0;34m=\u001b[0m \u001b[0mself\u001b[0m\u001b[0;34m.\u001b[0m\u001b[0mproblem\u001b[0m\u001b[0;34m.\u001b[0m\u001b[0moverwrite_values\u001b[0m\u001b[0;34m(\u001b[0m\u001b[0mvalues\u001b[0m\u001b[0;34m)\u001b[0m\u001b[0;34m\u001b[0m\u001b[0;34m\u001b[0m\u001b[0m\n\u001b[0;32m--> 174\u001b[0;31m             \u001b[0mresult\u001b[0m \u001b[0;34m=\u001b[0m \u001b[0mself\u001b[0m\u001b[0;34m.\u001b[0m\u001b[0meval_single\u001b[0m\u001b[0;34m(\u001b[0m\u001b[0mvalues\u001b[0m\u001b[0;34m,\u001b[0m \u001b[0;34m**\u001b[0m\u001b[0mkwargs\u001b[0m\u001b[0;34m)\u001b[0m\u001b[0;34m\u001b[0m\u001b[0;34m\u001b[0m\u001b[0m\n\u001b[0m\u001b[1;32m    175\u001b[0m         \u001b[0;32mexcept\u001b[0m \u001b[0mException\u001b[0m \u001b[0;32mas\u001b[0m \u001b[0me\u001b[0m\u001b[0;34m:\u001b[0m\u001b[0;34m\u001b[0m\u001b[0;34m\u001b[0m\u001b[0m\n\u001b[1;32m    176\u001b[0m             \u001b[0;32mif\u001b[0m \u001b[0mself\u001b[0m\u001b[0;34m.\u001b[0m\u001b[0merror_mode\u001b[0m \u001b[0;34m!=\u001b[0m \u001b[0;34m\"Silent\"\u001b[0m\u001b[0;34m:\u001b[0m\u001b[0;34m\u001b[0m\u001b[0;34m\u001b[0m\u001b[0m\n",
      "\u001b[0;32m~/py3/lib/python3.8/site-packages/besos/evaluator.py\u001b[0m in \u001b[0;36meval_single\u001b[0;34m(self, values, out_dir, keep_dirs)\u001b[0m\n\u001b[1;32m    795\u001b[0m             \u001b[0mtemp_dir\u001b[0m\u001b[0;34m.\u001b[0m\u001b[0mcleanup\u001b[0m\u001b[0;34m(\u001b[0m\u001b[0;34m)\u001b[0m\u001b[0;34m\u001b[0m\u001b[0;34m\u001b[0m\u001b[0m\n\u001b[1;32m    796\u001b[0m         \u001b[0;32melse\u001b[0m\u001b[0;34m:\u001b[0m\u001b[0;34m\u001b[0m\u001b[0;34m\u001b[0m\u001b[0m\n\u001b[0;32m--> 797\u001b[0;31m             results = eplus.run_building(\n\u001b[0m\u001b[1;32m    798\u001b[0m                 \u001b[0mcurrent_building\u001b[0m\u001b[0;34m,\u001b[0m\u001b[0;34m\u001b[0m\u001b[0;34m\u001b[0m\u001b[0m\n\u001b[1;32m    799\u001b[0m                 \u001b[0mout_dir\u001b[0m\u001b[0;34m=\u001b[0m\u001b[0mout_dir\u001b[0m\u001b[0;34m,\u001b[0m\u001b[0;34m\u001b[0m\u001b[0;34m\u001b[0m\u001b[0m\n",
      "\u001b[0;32m~/py3/lib/python3.8/site-packages/besos/eplus_funcs.py\u001b[0m in \u001b[0;36mrun_building\u001b[0;34m(building, out_dir, version, **eplus_args)\u001b[0m\n\u001b[1;32m     98\u001b[0m             \u001b[0;34m**\u001b[0m\u001b[0meplus_args\u001b[0m\u001b[0;34m,\u001b[0m\u001b[0;34m\u001b[0m\u001b[0;34m\u001b[0m\u001b[0m\n\u001b[1;32m     99\u001b[0m         )\n\u001b[0;32m--> 100\u001b[0;31m         \u001b[0;32mreturn\u001b[0m \u001b[0mobjectives\u001b[0m\u001b[0;34m.\u001b[0m\u001b[0mread_eso\u001b[0m\u001b[0;34m(\u001b[0m\u001b[0mout_dir\u001b[0m\u001b[0;34m)\u001b[0m\u001b[0;34m\u001b[0m\u001b[0;34m\u001b[0m\u001b[0m\n\u001b[0m\u001b[1;32m    101\u001b[0m \u001b[0;34m\u001b[0m\u001b[0m\n\u001b[1;32m    102\u001b[0m \u001b[0;34m\u001b[0m\u001b[0m\n",
      "\u001b[0;31mKeyboardInterrupt\u001b[0m: "
     ]
    }
   ],
   "source": [
    "objectives = ['Electricity:Facility','DistrictCooling:Facility','DistrictHeating:Facility']\n",
    "\n",
    "problem = EPProblem(parameters, objectives)\n",
    "evaluator = EvaluatorEP(problem, building, out_dir='outputdirSimulation', error_mode='Failfast', err_dir='outputdirSimulation',\n",
    "                        epw = weather_file)\n",
    "outputs = evaluator.df_apply(samples, keep_input=True)  "
   ]
  },
  {
   "cell_type": "markdown",
   "metadata": {},
   "source": [
    "Evaluate the total area of the building so that we can find the consumptione over square meter."
   ]
  },
  {
   "cell_type": "code",
   "execution_count": 9,
   "metadata": {
    "scrolled": true
   },
   "outputs": [
    {
     "name": "stdout",
     "output_type": "stream",
     "text": [
      "22.7323\n",
      "4.3647\n",
      "14.665\n"
     ]
    },
    {
     "data": {
      "text/plain": [
       "41.762"
      ]
     },
     "execution_count": 9,
     "metadata": {},
     "output_type": "execute_result"
    }
   ],
   "source": [
    "total_area= 0\n",
    "for Zones in building.idfobjects[\"Zone\"]:\n",
    "    total_area += float(Zones.checkrange(\"Floor_Area\")) \n",
    "    print(Zones.checkrange(\"Floor_Area\"))\n",
    "total_area"
   ]
  },
  {
   "cell_type": "markdown",
   "metadata": {},
   "source": [
    "Transform the output from [J] to [kWh/m2]"
   ]
  },
  {
   "cell_type": "code",
   "execution_count": null,
   "metadata": {},
   "outputs": [],
   "source": [
    "outputs['Electricity:Facility'] /= (3.6e6 * total_area) #kWh/m2\n",
    "outputs['DistrictCooling:Facility'] /= (3.6e6 * total_area)\n",
    "outputs['DistrictHeating:Facility'] /= (3.6e6 * total_area)\n",
    "outputs['TotalConsumption'] = outputs['Electricity:Facility'] + outputs['DistrictCooling:Facility'] + outputs['DistrictHeating:Facility']\n",
    "print(outputs)"
   ]
  },
  {
   "cell_type": "markdown",
   "metadata": {},
   "source": [
    "Find the index of minimum value of total consumption and print the corresponding parameter values."
   ]
  },
  {
   "cell_type": "code",
   "execution_count": null,
   "metadata": {},
   "outputs": [],
   "source": [
    "min_value_index = outputs[['TotalConsumption']].idxmin()\n",
    "print(outputs.iloc[min_value_index])"
   ]
  },
  {
   "cell_type": "code",
   "execution_count": null,
   "metadata": {},
   "outputs": [],
   "source": []
  }
 ],
 "metadata": {
  "kernelspec": {
   "display_name": "Python 3",
   "language": "python",
   "name": "python3"
  },
  "language_info": {
   "codemirror_mode": {
    "name": "ipython",
    "version": 3
   },
   "file_extension": ".py",
   "mimetype": "text/x-python",
   "name": "python",
   "nbconvert_exporter": "python",
   "pygments_lexer": "ipython3",
   "version": "3.8.5"
  }
 },
 "nbformat": 4,
 "nbformat_minor": 4
}
