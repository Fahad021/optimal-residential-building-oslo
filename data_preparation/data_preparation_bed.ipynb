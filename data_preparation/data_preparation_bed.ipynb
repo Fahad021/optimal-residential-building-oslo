{
 "cells": [
  {
   "cell_type": "code",
   "execution_count": 1,
   "metadata": {},
   "outputs": [],
   "source": [
    "import pandas as pd\n",
    "import matplotlib.pyplot as plt"
   ]
  },
  {
   "cell_type": "code",
   "execution_count": 2,
   "metadata": {},
   "outputs": [],
   "source": [
    "csv_columns = ['Date/Time',\n",
    "              'BLOCCO1:ZONA2:Zone Operative Temperature [C](TimeStep:ON)',\n",
    "              'BLOCCO1:ZONA2:Zone Air Relative Humidity [%](TimeStep:ON)',\n",
    "              'BLOCCO1:ZONA2:Zone Ventilation Air Change Rate [ach](TimeStep)',\n",
    "              'BLOCCO1:ZONA2:Zone Windows Total Transmitted Solar Radiation Rate [W](TimeStep)',                \n",
    "              'Environment:Site Outdoor Air Drybulb Temperature [C](TimeStep)',\n",
    "              'Environment:Site Outdoor Air Barometric Pressure [Pa](TimeStep)',\n",
    "              'Environment:Site Wind Speed [m/s](TimeStep)',\n",
    "              'Environment:Site Wind Direction [deg](TimeStep)',\n",
    "              'DistrictHeating:Facility [J](TimeStep)',\n",
    "              'DistrictCooling:Facility [J](TimeStep)']\n",
    "\n",
    "#csv_columns = ['Date/Time',\n",
    "#              'BLOCK1:ZONE2:Zone Mean Air Temperature [C](TimeStep:ON)',\n",
    "#              'BLOCK1:ZONE2:Zone Air Relative Humidity [%](TimeStep:ON)',\n",
    "#              'BLOCK1:ZONE2:Zone Ventilation Air Change Rate [ach](TimeStep)',\n",
    "#              'BLOCK1:ZONE2:Zone Windows Total Transmitted Solar Radiation Rate [W](TimeStep)',                              \n",
    "#              'Environment:Site Outdoor Air Drybulb Temperature [C](TimeStep)',\n",
    "#              'Environment:Site Outdoor Air Barometric Pressure [Pa](TimeStep)',\n",
    "#              'Environment:Site Wind Speed [m/s](TimeStep)',\n",
    "#              'Environment:Site Wind Direction [deg](TimeStep)',\n",
    "#              'DistrictHeating:Facility [J](TimeStep)',\n",
    "#              'DistrictCooling:Facility [J](TimeStep)']\n"
   ]
  },
  {
   "cell_type": "code",
   "execution_count": 3,
   "metadata": {},
   "outputs": [],
   "source": [
    "idf_data =pd.read_csv('/home/ict4bd/Residential_oslo/outputDir2019/eplusout.csv',usecols=csv_columns)"
   ]
  },
  {
   "cell_type": "code",
   "execution_count": 4,
   "metadata": {},
   "outputs": [],
   "source": [
    "df_columns = {'Date/Time':'Date_Time',\n",
    "              'BLOCCO1:ZONA2:Zone Operative Temperature [C](TimeStep:ON)':'t_in',\n",
    "              'BLOCCO1:ZONA2:Zone Air Relative Humidity [%](TimeStep:ON)':'humidity',\n",
    "              'BLOCCO1:ZONA2:Zone Ventilation Air Change Rate [ach](TimeStep)':'ACH',\n",
    "              'BLOCCO1:ZONA2:Zone Windows Total Transmitted Solar Radiation Rate [W](TimeStep)':'solar_rad',            \n",
    "              'Environment:Site Outdoor Air Drybulb Temperature [C](TimeStep)':'t_out',\n",
    "              'Environment:Site Outdoor Air Barometric Pressure [Pa](TimeStep)':'pressure',\n",
    "              'Environment:Site Wind Speed [m/s](TimeStep)':'wind_speed',\n",
    "              'Environment:Site Wind Direction [deg](TimeStep)':'wind_dir',\n",
    "              'DistrictHeating:Facility [J](TimeStep)':'power_heating',\n",
    "              'DistrictCooling:Facility [J](TimeStep)':'power_cooling'}\n",
    "\n",
    "\n",
    "#df_columns = {'Date/Time':'Date_Time',\n",
    "#              'BLOCK1:ZONE2:Zone Mean Air Temperature [C](TimeStep:ON)':'t_in',\n",
    "#              'BLOCK1:ZONE2:Zone Air Relative Humidity [%](TimeStep:ON)':'humidity',\n",
    "#              'BLOCK1:ZONE2:Zone Ventilation Air Change Rate [ach](TimeStep)':'ACH',\n",
    "#              'BLOCK1:ZONE2:Zone Windows Total Transmitted Solar Radiation Rate [W](TimeStep)':'solar_rad',              \n",
    "#              'Environment:Site Outdoor Air Drybulb Temperature [C](TimeStep)':'t_out',\n",
    "#              'Environment:Site Outdoor Air Barometric Pressure [Pa](TimeStep)':'pressure',\n",
    "#              'Environment:Site Wind Speed [m/s](TimeStep)':'wind_speed',\n",
    "#              'Environment:Site Wind Direction [deg](TimeStep)':'wind_dir',\n",
    "#              'DistrictHeating:Facility [J](TimeStep)':'power_heating',\n",
    "#              'DistrictCooling:Facility [J](TimeStep)':'power_cooling'}\n"
   ]
  },
  {
   "cell_type": "code",
   "execution_count": 5,
   "metadata": {},
   "outputs": [],
   "source": [
    "idf_data = idf_data.rename(columns =df_columns)"
   ]
  },
  {
   "cell_type": "code",
   "execution_count": 6,
   "metadata": {},
   "outputs": [],
   "source": [
    "#idf_data['t_in'] = idf_data[['t_in_bedroom','t_in_diningroom','t_in_bathroom']].mean(axis=1)\n",
    "#idf_data.drop(['t_in_bathroom','t_in_bedroom','t_in_diningroom'], axis = 1)"
   ]
  },
  {
   "cell_type": "code",
   "execution_count": 7,
   "metadata": {},
   "outputs": [],
   "source": [
    "#idf_data['temp_diff'] =idf_data['t_in'] - idf_data['t_out']"
   ]
  },
  {
   "cell_type": "code",
   "execution_count": 8,
   "metadata": {},
   "outputs": [],
   "source": [
    "idf_data['Date_Time'] = '2019/' + idf_data['Date_Time'].str.strip()\n",
    "idf_data['Date_Time'] = idf_data['Date_Time'].str.replace('24:00:00','00:00:00')"
   ]
  },
  {
   "cell_type": "code",
   "execution_count": 9,
   "metadata": {},
   "outputs": [],
   "source": [
    "idf_data['power_heating'] /= 0.9e6 \n",
    "idf_data['power_cooling'] /= 0.9e6"
   ]
  },
  {
   "cell_type": "code",
   "execution_count": 10,
   "metadata": {},
   "outputs": [],
   "source": [
    "idf_data['power_heating'] = idf_data['power_heating'].apply(lambda x: round(x, 2))\n",
    "idf_data['power_cooling'] = idf_data['power_cooling'].apply(lambda x: round(x, 2))\n",
    "idf_data['t_in'] = idf_data['t_in'].apply(lambda x: round(x, 2))\n",
    "idf_data['humidity'] = idf_data['humidity'].apply(lambda x: round(x, 2))\n",
    "idf_data['ACH'] = idf_data['ACH'].apply(lambda x: round(x, 2))\n",
    "idf_data['t_out'] = idf_data['t_out'].apply(lambda x: round(x, 2))\n",
    "idf_data['solar_rad'] = idf_data['solar_rad'].apply(lambda x: round(x, 2))\n",
    "idf_data['pressure'] = idf_data['pressure'].apply(lambda x: round(x, 2))\n",
    "idf_data['wind_speed'] = idf_data['wind_speed'].apply(lambda x: round(x, 2))\n",
    "idf_data['wind_dir'] = idf_data['wind_dir'].apply(lambda x: round(x, 2))"
   ]
  },
  {
   "cell_type": "code",
   "execution_count": 11,
   "metadata": {},
   "outputs": [],
   "source": [
    "area_1 = 4.3647\n",
    "area_2 = 14.665\n",
    "area_3 = 22.7323\n",
    "area_tot = area_1 + area_2 + area_3"
   ]
  },
  {
   "cell_type": "code",
   "execution_count": 12,
   "metadata": {},
   "outputs": [],
   "source": [
    "#idf_data['total_plants'] = idf_data['power_heating']+ idf_data['power_cooling']\n",
    "#idf_data['power_h1'] = idf_data['power_heating']*area_1/area_tot\n",
    "idf_data['power_h2'] = idf_data['power_heating']*area_2/area_tot\n",
    "#idf_data['power_h3'] = idf_data['power_heating']*area_3/area_tot\n",
    "#idf_data['power_c1'] = idf_data['power_cooling']*area_1/area_tot\n",
    "idf_data['power_c2'] = idf_data['power_cooling']*area_2/area_tot\n",
    "#idf_data['power_c3'] = idf_data['power_cooling']*area_3/area_tot"
   ]
  },
  {
   "cell_type": "code",
   "execution_count": 13,
   "metadata": {},
   "outputs": [],
   "source": [
    "idf_data = idf_data[['Date_Time','t_in','t_out','power_h2','power_c2','solar_rad']]"
   ]
  },
  {
   "cell_type": "code",
   "execution_count": 14,
   "metadata": {},
   "outputs": [],
   "source": [
    "idf_data.to_csv(path_or_buf='/home/ict4bd/Residential_oslo/2019_bed.csv',index=False)"
   ]
  },
  {
   "cell_type": "code",
   "execution_count": 15,
   "metadata": {
    "scrolled": true
   },
   "outputs": [
    {
     "data": {
      "text/html": [
       "<div>\n",
       "<style scoped>\n",
       "    .dataframe tbody tr th:only-of-type {\n",
       "        vertical-align: middle;\n",
       "    }\n",
       "\n",
       "    .dataframe tbody tr th {\n",
       "        vertical-align: top;\n",
       "    }\n",
       "\n",
       "    .dataframe thead th {\n",
       "        text-align: right;\n",
       "    }\n",
       "</style>\n",
       "<table border=\"1\" class=\"dataframe\">\n",
       "  <thead>\n",
       "    <tr style=\"text-align: right;\">\n",
       "      <th></th>\n",
       "      <th>Date_Time</th>\n",
       "      <th>t_in</th>\n",
       "      <th>t_out</th>\n",
       "      <th>power_h2</th>\n",
       "      <th>power_c2</th>\n",
       "      <th>solar_rad</th>\n",
       "    </tr>\n",
       "  </thead>\n",
       "  <tbody>\n",
       "    <tr>\n",
       "      <th>0</th>\n",
       "      <td>2019/01/01  00:15:00</td>\n",
       "      <td>19.15</td>\n",
       "      <td>3.45</td>\n",
       "      <td>0.309018</td>\n",
       "      <td>0.0</td>\n",
       "      <td>0.0</td>\n",
       "    </tr>\n",
       "    <tr>\n",
       "      <th>1</th>\n",
       "      <td>2019/01/01  00:30:00</td>\n",
       "      <td>19.15</td>\n",
       "      <td>4.18</td>\n",
       "      <td>0.301995</td>\n",
       "      <td>0.0</td>\n",
       "      <td>0.0</td>\n",
       "    </tr>\n",
       "    <tr>\n",
       "      <th>2</th>\n",
       "      <td>2019/01/01  00:45:00</td>\n",
       "      <td>19.15</td>\n",
       "      <td>4.92</td>\n",
       "      <td>0.291460</td>\n",
       "      <td>0.0</td>\n",
       "      <td>0.0</td>\n",
       "    </tr>\n",
       "    <tr>\n",
       "      <th>3</th>\n",
       "      <td>2019/01/01  01:00:00</td>\n",
       "      <td>19.15</td>\n",
       "      <td>5.66</td>\n",
       "      <td>0.284437</td>\n",
       "      <td>0.0</td>\n",
       "      <td>0.0</td>\n",
       "    </tr>\n",
       "    <tr>\n",
       "      <th>4</th>\n",
       "      <td>2019/01/01  01:15:00</td>\n",
       "      <td>19.15</td>\n",
       "      <td>5.85</td>\n",
       "      <td>0.280925</td>\n",
       "      <td>0.0</td>\n",
       "      <td>0.0</td>\n",
       "    </tr>\n",
       "    <tr>\n",
       "      <th>...</th>\n",
       "      <td>...</td>\n",
       "      <td>...</td>\n",
       "      <td>...</td>\n",
       "      <td>...</td>\n",
       "      <td>...</td>\n",
       "      <td>...</td>\n",
       "    </tr>\n",
       "    <tr>\n",
       "      <th>35035</th>\n",
       "      <td>2019/12/31  23:00:00</td>\n",
       "      <td>18.97</td>\n",
       "      <td>3.33</td>\n",
       "      <td>0.291460</td>\n",
       "      <td>0.0</td>\n",
       "      <td>0.0</td>\n",
       "    </tr>\n",
       "    <tr>\n",
       "      <th>35036</th>\n",
       "      <td>2019/12/31  23:15:00</td>\n",
       "      <td>18.96</td>\n",
       "      <td>3.20</td>\n",
       "      <td>0.361691</td>\n",
       "      <td>0.0</td>\n",
       "      <td>0.0</td>\n",
       "    </tr>\n",
       "    <tr>\n",
       "      <th>35037</th>\n",
       "      <td>2019/12/31  23:30:00</td>\n",
       "      <td>18.96</td>\n",
       "      <td>3.07</td>\n",
       "      <td>0.368714</td>\n",
       "      <td>0.0</td>\n",
       "      <td>0.0</td>\n",
       "    </tr>\n",
       "    <tr>\n",
       "      <th>35038</th>\n",
       "      <td>2019/12/31  23:45:00</td>\n",
       "      <td>18.95</td>\n",
       "      <td>2.94</td>\n",
       "      <td>0.372226</td>\n",
       "      <td>0.0</td>\n",
       "      <td>0.0</td>\n",
       "    </tr>\n",
       "    <tr>\n",
       "      <th>35039</th>\n",
       "      <td>2019/12/31  00:00:00</td>\n",
       "      <td>18.95</td>\n",
       "      <td>2.81</td>\n",
       "      <td>0.375738</td>\n",
       "      <td>0.0</td>\n",
       "      <td>0.0</td>\n",
       "    </tr>\n",
       "  </tbody>\n",
       "</table>\n",
       "<p>35040 rows × 6 columns</p>\n",
       "</div>"
      ],
      "text/plain": [
       "                  Date_Time   t_in  t_out  power_h2  power_c2  solar_rad\n",
       "0      2019/01/01  00:15:00  19.15   3.45  0.309018       0.0        0.0\n",
       "1      2019/01/01  00:30:00  19.15   4.18  0.301995       0.0        0.0\n",
       "2      2019/01/01  00:45:00  19.15   4.92  0.291460       0.0        0.0\n",
       "3      2019/01/01  01:00:00  19.15   5.66  0.284437       0.0        0.0\n",
       "4      2019/01/01  01:15:00  19.15   5.85  0.280925       0.0        0.0\n",
       "...                     ...    ...    ...       ...       ...        ...\n",
       "35035  2019/12/31  23:00:00  18.97   3.33  0.291460       0.0        0.0\n",
       "35036  2019/12/31  23:15:00  18.96   3.20  0.361691       0.0        0.0\n",
       "35037  2019/12/31  23:30:00  18.96   3.07  0.368714       0.0        0.0\n",
       "35038  2019/12/31  23:45:00  18.95   2.94  0.372226       0.0        0.0\n",
       "35039  2019/12/31  00:00:00  18.95   2.81  0.375738       0.0        0.0\n",
       "\n",
       "[35040 rows x 6 columns]"
      ]
     },
     "execution_count": 15,
     "metadata": {},
     "output_type": "execute_result"
    }
   ],
   "source": [
    "idf_data"
   ]
  },
  {
   "cell_type": "code",
   "execution_count": 16,
   "metadata": {},
   "outputs": [],
   "source": [
    "#idf_data_hour = pd.read_csv('/home/ict4bd/Residential1/simulation_Data_2019_rad.csv', parse_dates=[0,], index_col='Date_Time')\n",
    "#idf_data_hour = idf_data_hour.resample('H').interpolate()\n",
    "#idf_data_hour.to_csv(path_or_buf='/home/ict4bd/Residential1/simulation_Data_2019_rad.csv')"
   ]
  },
  {
   "cell_type": "code",
   "execution_count": 17,
   "metadata": {},
   "outputs": [
    {
     "data": {
      "image/png": "[encoded data removed]",
      "text/plain": [
       "<Figure size 432x288 with 1 Axes>"
      ]
     },
     "metadata": {
      "needs_background": "light"
     },
     "output_type": "display_data"
    },
    {
     "data": {
      "image/png": "[encoded data removed]",
      "text/plain": [
       "<Figure size 432x288 with 1 Axes>"
      ]
     },
     "metadata": {
      "needs_background": "light"
     },
     "output_type": "display_data"
    }
   ],
   "source": [
    "#idf_data_hour = idf_data_hour.resample('D').interpolate()\n",
    "plt.plot(idf_data['t_in'])\n",
    "plt.show()\n",
    "plt.plot(idf_data['t_out'])\n",
    "plt.show()"
   ]
  },
  {
   "cell_type": "code",
   "execution_count": null,
   "metadata": {},
   "outputs": [],
   "source": []
  }
 ],
 "metadata": {
  "kernelspec": {
   "display_name": "Python 3",
   "language": "python",
   "name": "python3"
  },
  "language_info": {
   "codemirror_mode": {
    "name": "ipython",
    "version": 3
   },
   "file_extension": ".py",
   "mimetype": "text/x-python",
   "name": "python",
   "nbconvert_exporter": "python",
   "pygments_lexer": "ipython3",
   "version": "3.8.5"
  }
 },
 "nbformat": 4,
 "nbformat_minor": 4
}
